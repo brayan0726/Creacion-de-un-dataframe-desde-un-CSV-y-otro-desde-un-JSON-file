{
 "cells": [
  {
   "cell_type": "code",
   "execution_count": 1,
   "id": "96c2c0b4",
   "metadata": {},
   "outputs": [],
   "source": [
    "import pandas as pd"
   ]
  },
  {
   "cell_type": "code",
   "execution_count": 2,
   "id": "d17a17a9",
   "metadata": {},
   "outputs": [
    {
     "name": "stdout",
     "output_type": "stream",
     "text": [
      "     Nombre  Notas          Clase\n",
      "0      Juan     86            POO\n",
      "1     Laura     78       Vectores\n",
      "2      Luis     75         Diseño\n",
      "3      JOSE     69  industriaMate\n",
      "4     Maria     67       Gerencia\n",
      "5     Nicol     78        Dibujo1\n",
      "6  Mauricio     93      Auditoria\n"
     ]
    }
   ],
   "source": [
    "datos1 =pd.DataFrame({\n",
    "    'Nombre':[ 'Juan', 'Laura','Luis','JOSE','Maria','Nicol','Mauricio'],\n",
    "    'Notas':[86, 78,75,69,67,78,93],\n",
    "    'Clase':['POO','Vectores','Diseño','industria' 'Mate','Gerencia','Dibujo1','Auditoria']\n",
    "\n",
    "  \n",
    "})\n",
    "\n",
    "\n",
    "\n",
    "print(datos1)"
   ]
  },
  {
   "cell_type": "code",
   "execution_count": 3,
   "id": "9c3c2d21",
   "metadata": {},
   "outputs": [
    {
     "name": "stdout",
     "output_type": "stream",
     "text": [
      "     Nombre  Promedio  Periodo\n",
      "0      Juan        86        1\n",
      "1     Laura        78        2\n",
      "2      Luis        75        3\n",
      "3      JOSE        69        1\n",
      "4     Maria        67        2\n",
      "5     Nicol        78        3\n",
      "6  Mauricio        93        2\n"
     ]
    }
   ],
   "source": [
    "datos2 =pd.DataFrame({\n",
    "    'Nombre':[ 'Juan', 'Laura','Luis','JOSE','Maria','Nicol','Mauricio'],\n",
    "    'Promedio':[86, 78,75,69,67,78,93],\n",
    "    'Periodo':[1,2,3,1,2,3,2]\n",
    "\n",
    "  \n",
    "})\n",
    "\n",
    "\n",
    "\n",
    "print(datos2)"
   ]
  },
  {
   "cell_type": "code",
   "execution_count": 4,
   "id": "ebcbe323",
   "metadata": {},
   "outputs": [
    {
     "data": {
      "text/html": [
       "<div>\n",
       "<style scoped>\n",
       "    .dataframe tbody tr th:only-of-type {\n",
       "        vertical-align: middle;\n",
       "    }\n",
       "\n",
       "    .dataframe tbody tr th {\n",
       "        vertical-align: top;\n",
       "    }\n",
       "\n",
       "    .dataframe thead th {\n",
       "        text-align: right;\n",
       "    }\n",
       "</style>\n",
       "<table border=\"1\" class=\"dataframe\">\n",
       "  <thead>\n",
       "    <tr style=\"text-align: right;\">\n",
       "      <th></th>\n",
       "      <th>Nombre</th>\n",
       "      <th>Notas</th>\n",
       "      <th>Clase</th>\n",
       "      <th>Promedio</th>\n",
       "      <th>Periodo</th>\n",
       "    </tr>\n",
       "  </thead>\n",
       "  <tbody>\n",
       "    <tr>\n",
       "      <th>0</th>\n",
       "      <td>Juan</td>\n",
       "      <td>86</td>\n",
       "      <td>POO</td>\n",
       "      <td>86</td>\n",
       "      <td>1</td>\n",
       "    </tr>\n",
       "    <tr>\n",
       "      <th>1</th>\n",
       "      <td>Laura</td>\n",
       "      <td>78</td>\n",
       "      <td>Vectores</td>\n",
       "      <td>78</td>\n",
       "      <td>2</td>\n",
       "    </tr>\n",
       "    <tr>\n",
       "      <th>2</th>\n",
       "      <td>Luis</td>\n",
       "      <td>75</td>\n",
       "      <td>Diseño</td>\n",
       "      <td>75</td>\n",
       "      <td>3</td>\n",
       "    </tr>\n",
       "    <tr>\n",
       "      <th>3</th>\n",
       "      <td>JOSE</td>\n",
       "      <td>69</td>\n",
       "      <td>industriaMate</td>\n",
       "      <td>69</td>\n",
       "      <td>1</td>\n",
       "    </tr>\n",
       "    <tr>\n",
       "      <th>4</th>\n",
       "      <td>Maria</td>\n",
       "      <td>67</td>\n",
       "      <td>Gerencia</td>\n",
       "      <td>67</td>\n",
       "      <td>2</td>\n",
       "    </tr>\n",
       "    <tr>\n",
       "      <th>5</th>\n",
       "      <td>Nicol</td>\n",
       "      <td>78</td>\n",
       "      <td>Dibujo1</td>\n",
       "      <td>78</td>\n",
       "      <td>3</td>\n",
       "    </tr>\n",
       "    <tr>\n",
       "      <th>6</th>\n",
       "      <td>Mauricio</td>\n",
       "      <td>93</td>\n",
       "      <td>Auditoria</td>\n",
       "      <td>93</td>\n",
       "      <td>2</td>\n",
       "    </tr>\n",
       "  </tbody>\n",
       "</table>\n",
       "</div>"
      ],
      "text/plain": [
       "     Nombre  Notas          Clase  Promedio  Periodo\n",
       "0      Juan     86            POO        86        1\n",
       "1     Laura     78       Vectores        78        2\n",
       "2      Luis     75         Diseño        75        3\n",
       "3      JOSE     69  industriaMate        69        1\n",
       "4     Maria     67       Gerencia        67        2\n",
       "5     Nicol     78        Dibujo1        78        3\n",
       "6  Mauricio     93      Auditoria        93        2"
      ]
     },
     "execution_count": 4,
     "metadata": {},
     "output_type": "execute_result"
    }
   ],
   "source": [
    "pd.merge(datos1,datos2)"
   ]
  }
 ],
 "metadata": {
  "kernelspec": {
   "display_name": "Python 3 (ipykernel)",
   "language": "python",
   "name": "python3"
  },
  "language_info": {
   "codemirror_mode": {
    "name": "ipython",
    "version": 3
   },
   "file_extension": ".py",
   "mimetype": "text/x-python",
   "name": "python",
   "nbconvert_exporter": "python",
   "pygments_lexer": "ipython3",
   "version": "3.9.12"
  }
 },
 "nbformat": 4,
 "nbformat_minor": 5
}
